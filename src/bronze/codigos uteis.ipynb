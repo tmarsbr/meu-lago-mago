{
 "cells": [
  {
   "cell_type": "markdown",
   "metadata": {
    "application/vnd.databricks.v1+cell": {
     "cellMetadata": {},
     "inputWidgets": {},
     "nuid": "7af99b27-3a1a-4e4e-8352-56f82cbb1390",
     "showTitle": false,
     "tableResultSettingsMap": {},
     "title": ""
    }
   },
   "source": [
    "### sobre escreve os dados para corrifir erro \n",
    "[PARQUET_TYPE_ILLEGAL] Illegal Parquet type: INT64 (TIMESTAMP(NANOS,false)).\n",
    "SQLSTATE: 42846\n",
    "\n"
   ]
  },
  {
   "cell_type": "code",
   "execution_count": 0,
   "metadata": {
    "application/vnd.databricks.v1+cell": {
     "cellMetadata": {},
     "inputWidgets": {},
     "nuid": "ae60c447-aa19-4df9-9ee1-dc4db63d2205",
     "showTitle": false,
     "tableResultSettingsMap": {},
     "title": ""
    }
   },
   "outputs": [],
   "source": [
    "import pyarrow.parquet as pq\n",
    "import pyarrow as pa\n",
    "\n",
    "# Read the Parquet file using pyarrow\n",
    "table = pq.read_table(\"/Volumes/raw/upcell/cdc/clientes/version=803/\")\n",
    "\n",
    "# Convert all TIMESTAMP(NANOS) columns to string\n",
    "schema = table.schema\n",
    "fields = [\n",
    "    pa.field(\n",
    "        f.name, \n",
    "        pa.string() if pa.types.is_timestamp(f.type) and getattr(f.type, \"unit\", None) == \"ns\" else f.type\n",
    "    ) \n",
    "    for f in schema\n",
    "]\n",
    "new_schema = pa.schema(fields)\n",
    "table = table.cast(new_schema)\n",
    "\n",
    "# Convert to Pandas DataFrame\n",
    "pdf = table.to_pandas()\n",
    "\n",
    "# Create Spark DataFrame\n",
    "df_cdc = spark.createDataFrame(pdf)\n",
    "\n",
    "df_cdc.write.mode(\"overwrite\").parquet(\"/Volumes/raw/upcell/cdc/clientes/version=803/\")"
   ]
  },
  {
   "cell_type": "code",
   "execution_count": 0,
   "metadata": {
    "application/vnd.databricks.v1+cell": {
     "cellMetadata": {},
     "inputWidgets": {},
     "nuid": "cab7e45f-9daa-45df-9308-f89eda1e0ac9",
     "showTitle": false,
     "tableResultSettingsMap": {},
     "title": ""
    }
   },
   "outputs": [],
   "source": [
    "# Corrigir leitura do CSV\n",
    "df_corrigido = (\n",
    "    spark.read.format(\"csv\")\n",
    "    .option(\"header\", True)\n",
    "    .option(\"sep\", \";\")\n",
    "    .load(\"/Volumes/raw/upcell/full-load/clientes/clientes.csv\")\n",
    ")\n",
    "\n",
    "# Sobrescrever o Parquet com os dados estruturados corretamente\n",
    "df_corrigido.write.mode(\"overwrite\").format(\"parquet\").save(\"/Volumes/raw/upcell/full-load/clientes/clientes.parquet\")"
   ]
  }
 ],
 "metadata": {
  "application/vnd.databricks.v1+notebook": {
   "computePreferences": null,
   "dashboards": [],
   "environmentMetadata": {
    "base_environment": "",
    "environment_version": "3"
   },
   "inputWidgetPreferences": null,
   "language": "python",
   "notebookMetadata": {
    "pythonIndentUnit": 4
   },
   "notebookName": "codigos uteis",
   "widgets": {}
  },
  "language_info": {
   "name": "python"
  }
 },
 "nbformat": 4,
 "nbformat_minor": 0
}
