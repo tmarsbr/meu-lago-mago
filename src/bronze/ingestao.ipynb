{
 "cells": [
  {
   "cell_type": "markdown",
   "metadata": {},
   "source": [
    "## 4. Ingestão CDC via Streaming\n",
    "\n",
    "### Modos de Execução\n",
    "\n",
    "**Modo Atual: `availableNow=True`**\n",
    "- Processa todos os dados disponíveis e para automaticamente\n",
    "- Ideal para execução via Jobs/Pipelines\n",
    "- Sem custo de cluster ocioso\n",
    "\n",
    "**Modo Contínuo (comentado abaixo):**\n",
    "- Mantém o streaming ativo indefinidamente\n",
    "- Processa novos arquivos conforme chegam\n",
    "- Requer cluster sempre ligado"
   ]
  },
  {
   "cell_type": "markdown",
   "metadata": {
    "application/vnd.databricks.v1+cell": {
     "cellMetadata": {
      "byteLimit": 2048000,
      "rowLimit": 10000
     },
     "inputWidgets": {},
     "nuid": "5b2b6516-6aef-4c8e-9810-f2dfa25aa1c3",
     "showTitle": false,
     "tableResultSettingsMap": {},
     "title": ""
    }
   },
   "source": [
    "# Pipeline de Ingestão CDC - Upcell\n",
    "\n",
    "Este notebook implementa o pipeline de ingestão de dados CDC (Change Data Capture) do S3 para o Bronze no Databricks.\n",
    "\n",
    "## Objetivo\n",
    "- Full-load: Carga inicial completa das tabelas\n",
    "- CDC: Ingestão incremental com operações Insert, Update e Delete\n",
    "- Delta Lake: Merge atômico na camada Bronze\n",
    "\n",
    "## Requisitos\n",
    "- Tabelas no S3: `s3://meudatalake-raw/upcell/`\n",
    "- Catálogo: `bronze.upcell`\n",
    "- Coluna de controle: `DtAtualizacao` (presente em todos os arquivos)"
   ]
  },
  {
   "cell_type": "markdown",
   "metadata": {
    "application/vnd.databricks.v1+cell": {
     "cellMetadata": {
      "byteLimit": 2048000,
      "rowLimit": 10000
     },
     "inputWidgets": {},
     "nuid": "96210ef1-6082-4adc-997a-06fd79fc047b",
     "showTitle": false,
     "tableResultSettingsMap": {},
     "title": ""
    }
   },
   "source": [
    "## 1. Importações e Setup"
   ]
  },
  {
   "cell_type": "code",
   "execution_count": 0,
   "metadata": {
    "application/vnd.databricks.v1+cell": {
     "cellMetadata": {
      "byteLimit": 2048000,
      "rowLimit": 10000
     },
     "inputWidgets": {},
     "nuid": "e47c0ecf-3b66-4795-8540-b1ccb1cab09c",
     "showTitle": false,
     "tableResultSettingsMap": {},
     "title": ""
    }
   },
   "outputs": [],
   "source": [
    "import delta\n",
    "def table_exists(catalog, database, table):\n",
    "    count = (spark.sql(f\"SHOW TABLES IN `{catalog}`.`{database}`\")\n",
    "               .filter(f\"database = '{database}' AND tableName = '{table}'\")\n",
    "               .count())\n",
    "    return count == 1"
   ]
  },
  {
   "cell_type": "code",
   "execution_count": 0,
   "metadata": {
    "application/vnd.databricks.v1+cell": {
     "cellMetadata": {
      "byteLimit": 2048000,
      "rowLimit": 10000
     },
     "inputWidgets": {},
     "nuid": "4ec0451d-f1c7-458e-b4c1-5a5c577dafe6",
     "showTitle": false,
     "tableResultSettingsMap": {},
     "title": ""
    }
   },
   "outputs": [],
   "source": [
    "catalog = \"bronze\"\n",
    "schema = \"upcell\"\n",
    "\n",
    "tablename = \"clientes\"\n",
    "id_field = \"idcliente\"\n",
    "timefield = \"DtAtualizacao\""
   ]
  },
  {
   "cell_type": "code",
   "execution_count": 0,
   "metadata": {
    "application/vnd.databricks.v1+cell": {
     "cellMetadata": {
      "byteLimit": 2048000,
      "rowLimit": 10000
     },
     "inputWidgets": {},
     "nuid": "e2999402-1bd6-499e-89c2-caecc9e88bb6",
     "showTitle": false,
     "tableResultSettingsMap": {},
     "title": ""
    }
   },
   "outputs": [],
   "source": [
    "# Captura o schema dos arquivos CDC para usar no streaming\n",
    "df_sample = spark.read.format(\"parquet\").load(f\"/Volumes/raw/upcell/cdc/{tablename}/\")\n",
    "df_schema = df_sample.schema\n",
    "print(f\"Schema capturado: {len(df_schema.fields)} colunas\")"
   ]
  },
  {
   "cell_type": "code",
   "execution_count": 0,
   "metadata": {
    "application/vnd.databricks.v1+cell": {
     "cellMetadata": {
      "byteLimit": 2048000,
      "rowLimit": 10000
     },
     "inputWidgets": {},
     "nuid": "5e01c6f9-33dd-497b-baf4-5451067e2bf4",
     "showTitle": false,
     "tableResultSettingsMap": {},
     "title": ""
    }
   },
   "outputs": [],
   "source": [
    "if not table_exists(catalog, schema, tablename):\n",
    "    print(\"tabela nao existe\")\n",
    "    df_full = spark.read.format(\"parquet\").load(f\"/Volumes/raw/upcell/full-load/{tablename}/\")\n",
    "    \n",
    "    (df_full.coalesce(1)\n",
    "        .write\n",
    "        .format(\"delta\")\n",
    "        .mode(\"overwrite\")\n",
    "        .saveAsTable(f\"{catalog}.{schema}.{tablename}\"))\n",
    "else:\n",
    "    print(\"tabela ja existe\")\n"
   ]
  },
  {
   "cell_type": "markdown",
   "metadata": {
    "application/vnd.databricks.v1+cell": {
     "cellMetadata": {
      "byteLimit": 2048000,
      "rowLimit": 10000
     },
     "inputWidgets": {},
     "nuid": "8fbad948-63ab-4244-8c07-231342112e88",
     "showTitle": false,
     "tableResultSettingsMap": {},
     "title": ""
    }
   },
   "source": [
    "## 2. Configuração e Full-Load\n",
    "\n",
    "Define variáveis de configuração e cria a tabela inicial se não existir."
   ]
  },
  {
   "cell_type": "code",
   "execution_count": 0,
   "metadata": {
    "application/vnd.databricks.v1+cell": {
     "cellMetadata": {
      "byteLimit": 2048000,
      "implicitDf": true,
      "rowLimit": 10000
     },
     "inputWidgets": {},
     "nuid": "98bf0438-167c-4336-9de0-7636723e3a7e",
     "showTitle": false,
     "tableResultSettingsMap": {},
     "title": ""
    }
   },
   "outputs": [],
   "source": [
    "# Função de upsert para processar cada batch do streaming\n",
    "def upsert(df, batchId):\n",
    "    print(f\"Processando batch {batchId}...\")\n",
    "    \n",
    "    # Conta registros no batch\n",
    "    batch_count = df.count()\n",
    "    print(f\"  Registros no batch: {batch_count}\")\n",
    "    \n",
    "    if batch_count == 0:\n",
    "        print(\"  Batch vazio, pulando...\")\n",
    "        return\n",
    "    \n",
    "    # Cria view temporária\n",
    "    df.createOrReplaceTempView(f\"view_{tablename}\")\n",
    "    \n",
    "    # Deduplica: pega apenas o último registro de cada chave\n",
    "    query = f\"\"\"\n",
    "    SELECT *  \n",
    "    FROM view_{tablename}\n",
    "    QUALIFY ROW_NUMBER() OVER (PARTITION BY {id_field} ORDER BY {timefield} DESC) = 1    \n",
    "    \"\"\"\n",
    "    df_cdc = spark.sql(query)\n",
    "    dedup_count = df_cdc.count()\n",
    "    print(f\"  Após deduplicação: {dedup_count} registros\")\n",
    "    \n",
    "    # Conta operações por tipo\n",
    "    ops = df_cdc.groupBy(\"op\").count().collect()\n",
    "    for row in ops:\n",
    "        print(f\"    - {row['op']}: {row['count']}\")\n",
    "    \n",
    "    # Aplica merge na tabela Delta\n",
    "    bronze_table = delta.DeltaTable.forName(spark, f\"{catalog}.{schema}.{tablename}\")\n",
    "    \n",
    "    (bronze_table.alias(\"b\") \n",
    "      .merge(df_cdc.alias(\"d\"), f\"b.{id_field} = d.{id_field}\") \n",
    "      .whenMatchedDelete(condition = \"d.op = 'D'\")\n",
    "      .whenMatchedUpdateAll(condition = \"d.op = 'U'\")\n",
    "      .whenNotMatchedInsertAll(condition = \"d.op = 'I'\")\n",
    "      .execute()\n",
    "    )\n",
    "    \n",
    "    print(f\"  Batch {batchId} processado com sucesso!\\n\")\n",
    "\n",
    "# Configura streaming com Cloud Files (Auto Loader)\n",
    "df_stream = (spark.readStream\n",
    "                .format(\"cloudFiles\")\n",
    "                .option(\"cloudFiles.format\", \"parquet\")\n",
    "                .schema(df_schema)\n",
    "                .load(f\"/Volumes/raw/upcell/cdc/{tablename}/\"))\n",
    "\n",
    "# Configura writeStream com trigger availableNow (processa e para)\n",
    "stream = (df_stream.writeStream\n",
    "                  .trigger(availableNow=True)\n",
    "                  .option(\"checkpointLocation\", f\"/Volumes/raw/upcell/cdc/{tablename}/_checkpoints/\")\n",
    "                  .foreachBatch(upsert)\n",
    ")\n",
    "\n",
    "# Para modo contínuo, substitua por:\n",
    "# .trigger(processingTime=\"10 seconds\")  # Processa a cada 10 segundos\n",
    "# E adicione .awaitTermination() após .start()"
   ]
  },
  {
   "cell_type": "code",
   "execution_count": 0,
   "metadata": {
    "application/vnd.databricks.v1+cell": {
     "cellMetadata": {
      "byteLimit": 2048000,
      "rowLimit": 10000
     },
     "inputWidgets": {},
     "nuid": "544d987f-880e-486f-994b-90511c6b475b",
     "showTitle": false,
     "tableResultSettingsMap": {},
     "title": ""
    }
   },
   "outputs": [],
   "source": [
    "# Inicia o streaming\n",
    "query = stream.start()\n",
    "\n",
    "# Aguarda a finalização (com availableNow=True, processa e para automaticamente)\n",
    "query.awaitTermination()\n",
    "\n",
    "# Exibe diagnóstico\n",
    "print(\"\\n\" + \"=\"*60)\n",
    "print(\"DIAGNÓSTICO DO STREAMING\")\n",
    "print(\"=\"*60)\n",
    "print(f\"Status: {query.status}\")\n",
    "print(f\"\\nÚltimo progresso:\")\n",
    "if query.lastProgress:\n",
    "    print(f\"  - Batch ID: {query.lastProgress.get('batchId', 'N/A')}\")\n",
    "    print(f\"  - Linhas lidas: {query.lastProgress.get('numInputRows', 0)}\")\n",
    "    print(f\"  - Duração: {query.lastProgress.get('durationMs', {}).get('triggerExecution', 0)} ms\")\n",
    "else:\n",
    "    print(\"  Nenhum batch processado (sem dados novos)\")\n",
    "\n",
    "if query.exception():\n",
    "    print(f\"\\nErro: {query.exception()}\")\n",
    "else:\n",
    "    print(\"\\nNenhum erro detectado\")\n",
    "print(\"=\"*60)"
   ]
  }
 ],
 "metadata": {
  "application/vnd.databricks.v1+notebook": {
   "computePreferences": null,
   "dashboards": [],
   "environmentMetadata": {
    "base_environment": "",
    "environment_version": "3"
   },
   "inputWidgetPreferences": null,
   "language": "python",
   "notebookMetadata": {
    "mostRecentlyExecutedCommandWithImplicitDF": {
     "commandId": 5195627179372982,
     "dataframes": [
      "_sqldf"
     ]
    },
    "pythonIndentUnit": 4
   },
   "notebookName": "ingestao",
   "widgets": {}
  },
  "language_info": {
   "name": "python"
  }
 },
 "nbformat": 4,
 "nbformat_minor": 0
}
