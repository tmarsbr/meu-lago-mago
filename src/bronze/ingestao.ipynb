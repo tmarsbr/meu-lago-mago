{
 "cells": [
  {
   "cell_type": "markdown",
   "metadata": {
    "application/vnd.databricks.v1+cell": {
     "cellMetadata": {
      "byteLimit": 2048000,
      "rowLimit": 10000
     },
     "inputWidgets": {},
     "nuid": "5b2b6516-6aef-4c8e-9810-f2dfa25aa1c3",
     "showTitle": false,
     "tableResultSettingsMap": {},
     "title": ""
    }
   },
   "source": [
    "# Pipeline de Ingestão CDC - Upcell\n",
    "\n",
    "Este notebook implementa o pipeline de ingestão de dados CDC (Change Data Capture) do S3 para o Bronze no Databricks.\n",
    "\n",
    "## Objetivo\n",
    "- Full-load: Carga inicial completa das tabelas\n",
    "- CDC: Ingestão incremental com operações Insert, Update e Delete\n",
    "- Delta Lake: Merge atômico na camada Bronze\n",
    "\n",
    "## Requisitos\n",
    "- Tabelas no S3: `s3://meudatalake-raw/upcell/`\n",
    "- Catálogo: `bronze.upcell`\n",
    "- Coluna de controle: `DtAtualizacao` (presente em todos os arquivos)"
   ]
  },
  {
   "cell_type": "markdown",
   "metadata": {
    "application/vnd.databricks.v1+cell": {
     "cellMetadata": {
      "byteLimit": 2048000,
      "rowLimit": 10000
     },
     "inputWidgets": {},
     "nuid": "96210ef1-6082-4adc-997a-06fd79fc047b",
     "showTitle": false,
     "tableResultSettingsMap": {},
     "title": ""
    }
   },
   "source": [
    "## 1️⃣ Importações e Setup"
   ]
  },
  {
   "cell_type": "code",
   "execution_count": 0,
   "metadata": {
    "application/vnd.databricks.v1+cell": {
     "cellMetadata": {
      "byteLimit": 2048000,
      "rowLimit": 10000
     },
     "inputWidgets": {},
     "nuid": "e47c0ecf-3b66-4795-8540-b1ccb1cab09c",
     "showTitle": false,
     "tableResultSettingsMap": {},
     "title": ""
    }
   },
   "outputs": [],
   "source": [
    "import delta\n",
    "def table_exists(catalog, database, table):\n",
    "    count = (spark.sql(f\"SHOW TABLES IN `{catalog}`.`{database}`\")\n",
    "               .filter(f\"database = '{database}' AND tableName = '{table}'\")\n",
    "               .count())\n",
    "    return count == 1"
   ]
  },
  {
   "cell_type": "code",
   "execution_count": 0,
   "metadata": {
    "application/vnd.databricks.v1+cell": {
     "cellMetadata": {
      "byteLimit": 2048000,
      "rowLimit": 10000
     },
     "inputWidgets": {},
     "nuid": "4ec0451d-f1c7-458e-b4c1-5a5c577dafe6",
     "showTitle": false,
     "tableResultSettingsMap": {},
     "title": ""
    }
   },
   "outputs": [],
   "source": [
    "catalog = \"bronze\"\n",
    "schema = \"upcell\"\n",
    "\n",
    "tablename = \"clientes\"\n",
    "id_field = \"idcliente\"\n",
    "timefield = \"DtAtualizacao\""
   ]
  },
  {
   "cell_type": "markdown",
   "metadata": {
    "application/vnd.databricks.v1+cell": {
     "cellMetadata": {
      "byteLimit": 2048000,
      "rowLimit": 10000
     },
     "inputWidgets": {},
     "nuid": "eb589cf4-1c52-4041-b104-01109d2419f7",
     "showTitle": false,
     "tableResultSettingsMap": {},
     "title": ""
    }
   },
   "source": [
    "## 1. Importações e Setup"
   ]
  },
  {
   "cell_type": "code",
   "execution_count": 0,
   "metadata": {
    "application/vnd.databricks.v1+cell": {
     "cellMetadata": {
      "byteLimit": 2048000,
      "rowLimit": 10000
     },
     "inputWidgets": {},
     "nuid": "e2999402-1bd6-499e-89c2-caecc9e88bb6",
     "showTitle": false,
     "tableResultSettingsMap": {},
     "title": ""
    }
   },
   "outputs": [],
   "source": [
    "df_full = spark.read.format(\"parquet\").load(f\"/Volumes/raw/upcell/cdc/{tablename}/\")\n",
    "df_schema = df_full.schema"
   ]
  },
  {
   "cell_type": "code",
   "execution_count": 0,
   "metadata": {
    "application/vnd.databricks.v1+cell": {
     "cellMetadata": {
      "byteLimit": 2048000,
      "rowLimit": 10000
     },
     "inputWidgets": {},
     "nuid": "5e01c6f9-33dd-497b-baf4-5451067e2bf4",
     "showTitle": false,
     "tableResultSettingsMap": {},
     "title": ""
    }
   },
   "outputs": [],
   "source": [
    "if not table_exists(catalog, schema, tablename):\n",
    "    print(\"tabela nao existe\")\n",
    "    df_full = spark.read.format(\"parquet\").load(f\"/Volumes/raw/upcell/full-load/{tablename}/\")\n",
    "    \n",
    "    (df_full.coalesce(1)\n",
    "        .write\n",
    "        .format(\"delta\")\n",
    "        .mode(\"overwrite\")\n",
    "        .saveAsTable(f\"{catalog}.{schema}.{tablename}\"))\n",
    "else:\n",
    "    print(\"tabela ja existe\")\n"
   ]
  },
  {
   "cell_type": "markdown",
   "metadata": {
    "application/vnd.databricks.v1+cell": {
     "cellMetadata": {
      "byteLimit": 2048000,
      "rowLimit": 10000
     },
     "inputWidgets": {},
     "nuid": "8fbad948-63ab-4244-8c07-231342112e88",
     "showTitle": false,
     "tableResultSettingsMap": {},
     "title": ""
    }
   },
   "source": [
    "## 3. Full-Load (Carga Inicial)\n",
    "\n",
    "Se a tabela não existe, cria a partir dos dados de full-load."
   ]
  },
  {
   "cell_type": "code",
   "execution_count": 0,
   "metadata": {
    "application/vnd.databricks.v1+cell": {
     "cellMetadata": {
      "byteLimit": 2048000,
      "implicitDf": true,
      "rowLimit": 10000
     },
     "inputWidgets": {},
     "nuid": "98bf0438-167c-4336-9de0-7636723e3a7e",
     "showTitle": false,
     "tableResultSettingsMap": {},
     "title": ""
    }
   },
   "outputs": [],
   "source": [
    "bronze = delta.DeltaTable.forName(spark, f\"{catalog}.{schema}.{tablename}\")\n",
    "\n",
    "def upsert(df, deltatable):\n",
    "\n",
    "    df.createOrReplaceGlobalTempView(f\"view_{tablename}\")\n",
    "    \n",
    "    query = f\"\"\"\n",
    "    SELECT *  \n",
    "    FROM view_{tablename}\n",
    "    QUALIFY ROW_NUMBER() OVER (PARTITION BY {id_field} ORDER BY {timefield} DESC) = 1    \n",
    "    \"\"\"\n",
    "    df_cdc = spark.sql(query)\n",
    "        \n",
    "    (deltatable.alias(\"b\") \n",
    "      .merge(df_cdc.alias(\"d\"), f\"b.{id_field} = d.{id_field}\") \n",
    "      .whenMatchedDelete(condition = \"d.op = 'D'\")           # Delete se op = 'D'\n",
    "      .whenMatchedUpdateAll(condition = \"d.op = 'U'\")        # Update se op = 'U'\n",
    "      .whenNotMatchedInsertAll(condition = \"d.op = 'I'\")     # Insert se op = 'I'\n",
    "      .execute()\n",
    "    )\n",
    "\n",
    "df_stram = (spark.readStream\n",
    "                .format(\"cloudFiles\")\n",
    "                .option(\"cloudFiles.format\", \"parquet\")\n",
    "                .schema(schema)\n",
    "                .load(f\"/Volumes/raw/upcell/cdc/{tablename}/\"))\n",
    "\n",
    "stream = (df_stram.writeStream\n",
    "                  .option(\"chekpointLocation\", f\"/Volumes/raw/upcell/cdc/{tablename}/_checkpoints/\")\n",
    "                  .foreachBatch(lambda df, batchId: upsert(df, bronze))                \n",
    ")\n",
    "\n",
    "\n"
   ]
  },
  {
   "cell_type": "code",
   "execution_count": 0,
   "metadata": {
    "application/vnd.databricks.v1+cell": {
     "cellMetadata": {
      "byteLimit": 2048000,
      "rowLimit": 10000
     },
     "inputWidgets": {},
     "nuid": "544d987f-880e-486f-994b-90511c6b475b",
     "showTitle": false,
     "tableResultSettingsMap": {},
     "title": ""
    }
   },
   "outputs": [],
   "source": [
    "start = stream.start()"
   ]
  },
  {
   "cell_type": "code",
   "execution_count": 0,
   "metadata": {
    "application/vnd.databricks.v1+cell": {
     "cellMetadata": {},
     "inputWidgets": {},
     "nuid": "bb15481e-eaac-4fb5-8bf5-cb5901466e47",
     "showTitle": false,
     "tableResultSettingsMap": {},
     "title": ""
    }
   },
   "outputs": [],
   "source": []
  }
 ],
 "metadata": {
  "application/vnd.databricks.v1+notebook": {
   "computePreferences": null,
   "dashboards": [],
   "environmentMetadata": {
    "base_environment": "",
    "environment_version": "3"
   },
   "inputWidgetPreferences": null,
   "language": "python",
   "notebookMetadata": {
    "mostRecentlyExecutedCommandWithImplicitDF": {
     "commandId": 5195627179372982,
     "dataframes": [
      "_sqldf"
     ]
    },
    "pythonIndentUnit": 4
   },
   "notebookName": "ingestao",
   "widgets": {}
  },
  "language_info": {
   "name": "python"
  }
 },
 "nbformat": 4,
 "nbformat_minor": 0
}
