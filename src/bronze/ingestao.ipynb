{
 "cells": [
  {
   "cell_type": "code",
   "execution_count": 0,
   "metadata": {
    "application/vnd.databricks.v1+cell": {
     "cellMetadata": {
      "byteLimit": 2048000,
      "rowLimit": 10000
     },
     "inputWidgets": {},
     "nuid": "46060ed5-585d-4ae0-b5c4-b45af23d299f",
     "showTitle": false,
     "tableResultSettingsMap": {},
     "title": ""
    }
   },
   "outputs": [],
   "source": [
    "df_full = spark.read.format(\"parquet\").load(f\"/Volumes/raw/upcell/cdc/clientes/\")\n",
    "df_full.display \n"
   ]
  },
  {
   "cell_type": "markdown",
   "metadata": {
    "application/vnd.databricks.v1+cell": {
     "cellMetadata": {
      "byteLimit": 2048000,
      "rowLimit": 10000
     },
     "inputWidgets": {},
     "nuid": "96210ef1-6082-4adc-997a-06fd79fc047b",
     "showTitle": false,
     "tableResultSettingsMap": {},
     "title": ""
    }
   },
   "source": [
    "## 1. Importações e Setup"
   ]
  },
  {
   "cell_type": "code",
   "execution_count": 0,
   "metadata": {
    "application/vnd.databricks.v1+cell": {
     "cellMetadata": {
      "byteLimit": 2048000,
      "rowLimit": 10000
     },
     "inputWidgets": {},
     "nuid": "e47c0ecf-3b66-4795-8540-b1ccb1cab09c",
     "showTitle": false,
     "tableResultSettingsMap": {},
     "title": ""
    }
   },
   "outputs": [],
   "source": [
    "import sys\n",
    "import delta\n",
    "\n",
    "\n",
    "sys.path.insert(0, \"../lib/\")\n",
    "\n",
    "import utils"
   ]
  },
  {
   "cell_type": "code",
   "execution_count": 0,
   "metadata": {
    "application/vnd.databricks.v1+cell": {
     "cellMetadata": {
      "byteLimit": 2048000,
      "rowLimit": 10000
     },
     "inputWidgets": {},
     "nuid": "4ec0451d-f1c7-458e-b4c1-5a5c577dafe6",
     "showTitle": false,
     "tableResultSettingsMap": {},
     "title": ""
    }
   },
   "outputs": [],
   "source": [
    "catalog = \"bronze\"\n",
    "schema = \"upcell\"\n",
    "\n",
    "#tablename = \"produtos\"\n",
    "#id_field = \"IdProduto\"\n",
    "#timefield = \"DtAtualizacao\"\n",
    "\n",
    "tablename = dbutils.widgets.get(\"tablename\")\n",
    "id_field = dbutils.widgets.get(\"id_field\")\n",
    "timestamp_field = dbutils.widgets.get(\"timefield\")\n",
    "\n",
    "df_schema = utils.import_schema(tablename)"
   ]
  },
  {
   "cell_type": "code",
   "execution_count": 0,
   "metadata": {
    "application/vnd.databricks.v1+cell": {
     "cellMetadata": {
      "byteLimit": 2048000,
      "rowLimit": 10000
     },
     "inputWidgets": {},
     "nuid": "5e01c6f9-33dd-497b-baf4-5451067e2bf4",
     "showTitle": false,
     "tableResultSettingsMap": {},
     "title": ""
    }
   },
   "outputs": [],
   "source": [
    "if not utils.table_exists(spark, catalog, schema, tablename):\n",
    "    print(\"tabela nao existe\")\n",
    "    df_full = (\n",
    "        spark.read\n",
    "            .format(\"parquet\")\n",
    "            .schema(df_schema)\n",
    "            .load(f\"/Volumes/raw/upcell/full-load/{tablename}/\")\n",
    "    )\n",
    "    (df_full.coalesce(1)\n",
    "        .write\n",
    "        .format(\"delta\")\n",
    "        .mode(\"overwrite\")\n",
    "        .saveAsTable(f\"{catalog}.{schema}.{tablename}\"))\n",
    "else:\n",
    "    print(\"tabela ja existe\")"
   ]
  },
  {
   "cell_type": "markdown",
   "metadata": {
    "application/vnd.databricks.v1+cell": {
     "cellMetadata": {
      "byteLimit": 2048000,
      "rowLimit": 10000
     },
     "inputWidgets": {},
     "nuid": "8fbad948-63ab-4244-8c07-231342112e88",
     "showTitle": false,
     "tableResultSettingsMap": {},
     "title": ""
    }
   },
   "source": [
    "## 2. Configuração e Full-Load\n",
    "\n",
    "Define variáveis de configuração e cria a tabela inicial se não existir."
   ]
  },
  {
   "cell_type": "code",
   "execution_count": 0,
   "metadata": {
    "application/vnd.databricks.v1+cell": {
     "cellMetadata": {
      "byteLimit": 2048000,
      "rowLimit": 10000
     },
     "inputWidgets": {},
     "nuid": "1f59ccc3-4e51-4baf-867c-b52ae2725994",
     "showTitle": false,
     "tableResultSettingsMap": {},
     "title": ""
    }
   },
   "outputs": [],
   "source": [
    "bronze = delta.DeltaTable.forName(spark, f\"{catalog}.{schema}.{tablename}\")"
   ]
  },
  {
   "cell_type": "code",
   "execution_count": 0,
   "metadata": {
    "application/vnd.databricks.v1+cell": {
     "cellMetadata": {
      "byteLimit": 2048000,
      "rowLimit": 10000
     },
     "inputWidgets": {},
     "nuid": "c2ee8c1c-b061-4a34-ac8b-a1b6285fb49b",
     "showTitle": false,
     "tableResultSettingsMap": {},
     "title": ""
    }
   },
   "outputs": [],
   "source": [
    "def upsert(df, deltatable):\n",
    "    df.createOrReplaceGlobalTempView(f\"view_{tablename}\")\n",
    "\n",
    "    query = f\"\"\"\n",
    "    SELECT *\n",
    "    FROM global_temp.view_{tablename}\n",
    "    QUALIFY ROW_NUMBER() OVER (PARTITION BY {id_field} ORDER BY {timefield} DESC) = 1\n",
    "    \"\"\"\n",
    "\n",
    "    df_cdc = spark.sql(query)\n",
    "\n",
    "    (deltatable.alias(\"b\")\n",
    "        .merge(df_cdc.alias(\"d\"), f\"b.{id_field} = d.{id_field}\")\n",
    "        .whenMatchedDelete(condition = \"d.OP = 'D'\")\n",
    "        .whenMatchedUpdateAll(condition = \"d.OP = 'U'\")\n",
    "        .whenNotMatchedInsertAll(condition = \"d.OP = 'I' OR d.OP = 'U'\")\n",
    "        .execute()\n",
    "    )\n",
    "\n",
    "df_stream = (spark.readStream\n",
    "    .format(\"cloudFiles\")\n",
    "    .option(\"cloudFiles.format\", \"parquet\")\n",
    "    .schema(df_schema)\n",
    "    .load(f\"/Volumes/raw/upcell/cdc/{tablename}/\")\n",
    ")\n",
    "\n",
    "stream = (df_stream.writeStream\n",
    "    .option(\"checkpointLocation\", f\"/Volumes/raw/upcell/cdc/{tablename}_checkpoint/\")\n",
    "    .foreachBatch(lambda df, batchID: upsert(df, bronze))\n",
    "    .trigger(availableNow=True)\n",
    "    \n",
    ")\n"
   ]
  },
  {
   "cell_type": "code",
   "execution_count": 0,
   "metadata": {
    "application/vnd.databricks.v1+cell": {
     "cellMetadata": {
      "byteLimit": 2048000,
      "rowLimit": 10000
     },
     "inputWidgets": {},
     "nuid": "9f6ff601-6578-4e09-99a4-adc065e51c15",
     "showTitle": false,
     "tableResultSettingsMap": {},
     "title": ""
    }
   },
   "outputs": [],
   "source": [
    "stream.start()"
   ]
  }
 ],
 "metadata": {
  "application/vnd.databricks.v1+notebook": {
   "computePreferences": {
    "hardware": {
     "accelerator": null,
     "gpuPoolId": null,
     "memory": null
    }
   },
   "dashboards": [],
   "environmentMetadata": {
    "base_environment": "",
    "environment_version": "3"
   },
   "inputWidgetPreferences": null,
   "language": "python",
   "notebookMetadata": {
    "mostRecentlyExecutedCommandWithImplicitDF": {
     "commandId": 5195627179372982,
     "dataframes": [
      "_sqldf"
     ]
    },
    "pythonIndentUnit": 4
   },
   "notebookName": "ingestao",
   "widgets": {}
  },
  "language_info": {
   "name": "python"
  }
 },
 "nbformat": 4,
 "nbformat_minor": 0
}
