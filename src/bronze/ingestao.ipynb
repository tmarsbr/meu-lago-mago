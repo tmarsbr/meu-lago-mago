{
 "cells": [
  {
   "cell_type": "markdown",
   "metadata": {
    "application/vnd.databricks.v1+cell": {
     "cellMetadata": {
      "byteLimit": 2048000,
      "rowLimit": 10000
     },
     "inputWidgets": {},
     "nuid": "96210ef1-6082-4adc-997a-06fd79fc047b",
     "showTitle": false,
     "tableResultSettingsMap": {},
     "title": ""
    }
   },
   "source": [
    "## 1. Importações e Setup"
   ]
  },
  {
   "cell_type": "code",
   "execution_count": 0,
   "metadata": {
    "application/vnd.databricks.v1+cell": {
     "cellMetadata": {
      "byteLimit": 2048000,
      "rowLimit": 10000
     },
     "inputWidgets": {},
     "nuid": "e47c0ecf-3b66-4795-8540-b1ccb1cab09c",
     "showTitle": false,
     "tableResultSettingsMap": {},
     "title": ""
    }
   },
   "outputs": [],
   "source": [
    "import delta\n",
    "import sys\n",
    "\n",
    "sys.path.insert(0, \"../lib/\")\n",
    "\n",
    "import utils\n",
    "import ingestors"
   ]
  },
  {
   "cell_type": "code",
   "execution_count": 0,
   "metadata": {
    "application/vnd.databricks.v1+cell": {
     "cellMetadata": {
      "byteLimit": 2048000,
      "rowLimit": 10000
     },
     "inputWidgets": {},
     "nuid": "4ec0451d-f1c7-458e-b4c1-5a5c577dafe6",
     "showTitle": false,
     "tableResultSettingsMap": {},
     "title": ""
    }
   },
   "outputs": [],
   "source": [
    "catalog = \"bronze\"\n",
    "schemaname = \"upcell\"\n",
    "\n",
    "#tablename = \"clientes\"\n",
    "#id_field = \"idCliente\"\n",
    "#timefield = \"DtAtualizacao\"\n",
    "\n",
    "## Access widget values outside of any asynchronous context\n",
    "tablename = dbutils.widgets.get(\"tablename\")\n",
    "id_field = dbutils.widgets.get(\"id_field\")\n",
    "timefield = dbutils.widgets.get(\"timefield\")\n",
    "\n",
    "cdc_path = f\"/Volumes/raw/{schemaname}/cdc/{tablename}/\"\n",
    "full_load_path = f\"/Volumes/raw/{schemaname}/full-load/{tablename}/\"\n",
    "ckeckpoint_location = f\"/Volumes/raw/{schemaname}/cdc/{tablename}_checkpoint/\""
   ]
  },
  {
   "cell_type": "code",
   "execution_count": 0,
   "metadata": {
    "application/vnd.databricks.v1+cell": {
     "cellMetadata": {
      "byteLimit": 2048000,
      "rowLimit": 10000
     },
     "inputWidgets": {},
     "nuid": "5e01c6f9-33dd-497b-baf4-5451067e2bf4",
     "showTitle": false,
     "tableResultSettingsMap": {},
     "title": ""
    }
   },
   "outputs": [],
   "source": [
    "if not utils.table_exists(spark, catalog, schemaname, tablename):\n",
    "    \n",
    "    print(\"tabela nao existe, criando...\")\n",
    "    \n",
    "    dbutils.fs.rm(ckeckpoint_location, True)\n",
    "\n",
    "    ingest_full_load = ingestors.Ingestor(spark=spark,\n",
    "                                          catalog=catalog, \n",
    "                                          schemaname=schemaname, \n",
    "                                          tablename=tablename, \n",
    "                                          data_format=\"parquet\")\n",
    "    ingest_full_load.execute(full_load_path)\n",
    "    print(\"tabela criada com sucesso\")\n",
    "\n",
    "else:\n",
    "    print(\"tabela ja existe, ignorando full-load\")"
   ]
  },
  {
   "cell_type": "code",
   "execution_count": 0,
   "metadata": {
    "application/vnd.databricks.v1+cell": {
     "cellMetadata": {
      "byteLimit": 2048000,
      "rowLimit": 10000
     },
     "inputWidgets": {},
     "nuid": "efb4de04-5cad-4494-ad45-3175fe581445",
     "showTitle": false,
     "tableResultSettingsMap": {},
     "title": ""
    }
   },
   "outputs": [],
   "source": [
    "ingest_cdc = ingestors.IngestorCDC(spark=spark,\n",
    "                                   catalog=catalog, \n",
    "                                   schemaname=schemaname, \n",
    "                                   tablename=tablename, \n",
    "                                   data_format=\"parquet\", \n",
    "                                   id_field=id_field,\n",
    "                                   timefield=timefield)\n",
    "\n",
    "stream = ingest_cdc.execute(cdc_path)"
   ]
  }
 ],
 "metadata": {
  "application/vnd.databricks.v1+notebook": {
   "computePreferences": {
    "hardware": {
     "accelerator": null,
     "gpuPoolId": null,
     "memory": null
    }
   },
   "dashboards": [],
   "environmentMetadata": {
    "base_environment": "",
    "environment_version": "3"
   },
   "inputWidgetPreferences": null,
   "language": "python",
   "notebookMetadata": {
    "mostRecentlyExecutedCommandWithImplicitDF": {
     "commandId": 7418403187387864,
     "dataframes": [
      "_sqldf"
     ]
    },
    "pythonIndentUnit": 4
   },
   "notebookName": "ingestao",
   "widgets": {}
  },
  "language_info": {
   "name": "python"
  }
 },
 "nbformat": 4,
 "nbformat_minor": 0
}
