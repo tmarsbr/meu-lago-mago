{
 "cells": [
  {
   "cell_type": "markdown",
   "metadata": {
    "application/vnd.databricks.v1+cell": {
     "cellMetadata": {
      "byteLimit": 2048000,
      "rowLimit": 10000
     },
     "inputWidgets": {},
     "nuid": "96210ef1-6082-4adc-997a-06fd79fc047b",
     "showTitle": false,
     "tableResultSettingsMap": {},
     "title": ""
    }
   },
   "source": [
    "## 1. Importações e Setup"
   ]
  },
  {
   "cell_type": "code",
   "execution_count": 0,
   "metadata": {
    "application/vnd.databricks.v1+cell": {
     "cellMetadata": {
      "byteLimit": 2048000,
      "rowLimit": 10000
     },
     "inputWidgets": {},
     "nuid": "e47c0ecf-3b66-4795-8540-b1ccb1cab09c",
     "showTitle": false,
     "tableResultSettingsMap": {},
     "title": ""
    }
   },
   "outputs": [],
   "source": [
    "import sys\n",
    "import delta\n",
    "\n",
    "sys.path.insert(0, \"../lib/\")\n",
    "import utils\n"
   ]
  },
  {
   "cell_type": "code",
   "execution_count": 0,
   "metadata": {
    "application/vnd.databricks.v1+cell": {
     "cellMetadata": {
      "byteLimit": 2048000,
      "rowLimit": 10000
     },
     "inputWidgets": {},
     "nuid": "4ec0451d-f1c7-458e-b4c1-5a5c577dafe6",
     "showTitle": false,
     "tableResultSettingsMap": {},
     "title": ""
    }
   },
   "outputs": [],
   "source": [
    "catalog = \"bronze\"\n",
    "schemaname = \"upcell\"\n",
    "\n",
    "tablename = \"produtos\"\n",
    "id_field = \"IdProduto\"\n",
    "timefield = \"DtAtualizacao\"\n",
    "\n",
    "# Access widget values outside of any asynchronous context\n",
    "#tablename = dbutils.widgets.get(\"tablename\")\n",
    "#id_field = dbutils.widgets.get(\"id_field\")\n",
    "#timefield = dbutils.widgets.get(\"timefield\")\n",
    "\n",
    "ckeckpoint_location = f\"/Volumes/raw/{schemaname}/cdc/{tablename}_checkpoint/\""
   ]
  },
  {
   "cell_type": "code",
   "execution_count": 0,
   "metadata": {
    "application/vnd.databricks.v1+cell": {
     "cellMetadata": {
      "byteLimit": 2048000,
      "rowLimit": 10000
     },
     "inputWidgets": {},
     "nuid": "5f380192-e8bd-4a92-9e2a-b2e6e4a17dd3",
     "showTitle": false,
     "tableResultSettingsMap": {},
     "title": ""
    }
   },
   "outputs": [],
   "source": [
    "class Ingestor:\n",
    "\n",
    "    def __init__(self, catalog, schemaname, tablename, data_format):\n",
    "        self.catalog = catalog\n",
    "        self.schemaname = schemaname\n",
    "        self.tablename = tablename\n",
    "        self.data_format = data_format\n",
    "        self.set_schema()\n",
    "    \n",
    "    def set_schema(self):\n",
    "        self.data_schema = utils.import_schema(self.tablename)\n",
    "\n",
    "    def load(self, path):\n",
    "        df = (spark.read\n",
    "                   .format(self.data_format)\n",
    "                   .schema(self.data_schema)\n",
    "                   .load(path))\n",
    "        return df\n",
    "    \n",
    "    def save(self, df):\n",
    "        (df.write\n",
    "          .format(\"delta\")\n",
    "          .mode(\"overwrite\")\n",
    "          .saveAsTable(f\"{self.catalog}.{self.schemaname}.{self.tablename}\")\n",
    "        )\n",
    "\n",
    "    def execute(self, path):\n",
    "        df = self.load(path)\n",
    "        return self.save(df)"
   ]
  },
  {
   "cell_type": "code",
   "execution_count": 0,
   "metadata": {
    "application/vnd.databricks.v1+cell": {
     "cellMetadata": {
      "byteLimit": 2048000,
      "rowLimit": 10000
     },
     "inputWidgets": {},
     "nuid": "45c82d7a-4652-4cc7-a432-6fae0f6621ef",
     "showTitle": false,
     "tableResultSettingsMap": {},
     "title": ""
    }
   },
   "outputs": [],
   "source": [
    "class IngestorCDC(Ingestor):\n",
    "\n",
    "    def __init__(self, catalog, schemaname, tablename, data_format, id_field, timefield):\n",
    "        super().__init__(catalog, schemaname, tablename, data_format)\n",
    "        self.id_field = id_field\n",
    "        self.timefield = timefield\n",
    "        self.set_deltatable()\n",
    "\n",
    "    def set_deltatable(self):\n",
    "        tablename = f\"{self.catalog}.{self.schemaname}.{self.tablename}\"\n",
    "        self.deltatable = delta.DeltaTable.forName(spark, tablename)\n",
    "\n",
    "    def upsert(self, df):\n",
    "        df.createOrReplaceGlobalTempView(f\"view_{self.tablename}\")\n",
    "\n",
    "        query = f\"\"\"\n",
    "            SELECT *\n",
    "            FROM global_temp.view_{self.tablename}\n",
    "            QUALIFY ROW_NUMBER() OVER (PARTITION BY {self.id_field} ORDER BY {self.timefield} DESC) = 1\n",
    "        \"\"\"\n",
    "\n",
    "        df_cdc = spark.sql(query)\n",
    "\n",
    "        (self.deltatable\n",
    "             .alias(\"b\")\n",
    "             .merge(df_cdc.alias(\"d\"), f\"b.{self.id_field} = d.{self.id_field}\")\n",
    "             .whenMatchedDelete(condition=\"d.OP = 'D'\")\n",
    "             .whenMatchedUpdateAll(condition=\"d.OP = 'U'\")\n",
    "             .whenNotMatchedInsertAll(condition=\"d.OP = 'I' OR d.OP = 'U'\")\n",
    "             .execute())\n",
    "\n",
    "    def load(self, path):\n",
    "        df = (spark.readStream\n",
    "                          .format(\"cloudFiles\")\n",
    "                          .option(\"cloudFiles.format\", self.data_format)\n",
    "                          .schema(self.data_schema)\n",
    "                          .load(path))\n",
    "        return df\n",
    "\n",
    "    def save(self, df):\n",
    "        stream = (df.writeStream\n",
    "                    .option(\"checkpointLocation\", f\"/Volumes/raw/{self.schemaname}/cdc/{self.tablename}_checkpoint/\")\n",
    "                    .foreachBatch(lambda df_batch, batch_id: self.upsert(df_batch))\n",
    "                    .trigger(processingTime=\"30 seconds\"))\n",
    "        return stream.start()"
   ]
  },
  {
   "cell_type": "code",
   "execution_count": 0,
   "metadata": {
    "application/vnd.databricks.v1+cell": {
     "cellMetadata": {
      "byteLimit": 2048000,
      "rowLimit": 10000
     },
     "inputWidgets": {},
     "nuid": "5e01c6f9-33dd-497b-baf4-5451067e2bf4",
     "showTitle": false,
     "tableResultSettingsMap": {},
     "title": ""
    }
   },
   "outputs": [],
   "source": [
    "if not utils.table_exists(spark, catalog, schemaname, tablename):\n",
    "    print(\"tabela nao existe, criando...\")\n",
    "    \n",
    "    dbutils.fs.rm(ckeckpoint_location, True)\n",
    "\n",
    "    ingest_full_load = Ingestor(catalog=catalog, \n",
    "                                schemaname=schemaname, \n",
    "                                tablename=tablename, \n",
    "                                data_format=\"parquet\")\n",
    "    ingest_full_load.execute(f\"/Volumes/raw/{schemaname}/full-load/{tablename}/\")\n",
    "    \n",
    "    print(\"tabela criada com sucesso\")\n",
    "\n",
    "else:\n",
    "    print(\"tabela ja existe, ignorando full-load\")"
   ]
  },
  {
   "cell_type": "code",
   "execution_count": 0,
   "metadata": {
    "application/vnd.databricks.v1+cell": {
     "cellMetadata": {
      "byteLimit": 2048000,
      "rowLimit": 10000
     },
     "inputWidgets": {},
     "nuid": "efb4de04-5cad-4494-ad45-3175fe581445",
     "showTitle": false,
     "tableResultSettingsMap": {},
     "title": ""
    }
   },
   "outputs": [],
   "source": [
    "ingest_cdc = IngestorCDC(catalog=catalog, \n",
    "                        schemaname=schemaname, \n",
    "                        tablename=tablename, \n",
    "                        data_format=\"parquet\", \n",
    "                        id_field=id_field,\n",
    "                        timefield=timefield)\n",
    "stream = ingest_cdc.execute(f\"/Volumes/raw/{schemaname}/cdc/{tablename}/\")"
   ]
  }
 ],
 "metadata": {
  "application/vnd.databricks.v1+notebook": {
   "computePreferences": {
    "hardware": {
     "accelerator": null,
     "gpuPoolId": null,
     "memory": null
    }
   },
   "dashboards": [],
   "environmentMetadata": {
    "base_environment": "",
    "environment_version": "3"
   },
   "inputWidgetPreferences": null,
   "language": "python",
   "notebookMetadata": {
    "mostRecentlyExecutedCommandWithImplicitDF": {
     "commandId": 5195627179372982,
     "dataframes": [
      "_sqldf"
     ]
    },
    "pythonIndentUnit": 4
   },
   "notebookName": "ingestao",
   "widgets": {}
  },
  "language_info": {
   "name": "python"
  }
 },
 "nbformat": 4,
 "nbformat_minor": 0
}
